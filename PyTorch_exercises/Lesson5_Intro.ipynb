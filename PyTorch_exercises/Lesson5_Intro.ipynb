{
 "cells": [
  {
   "cell_type": "code",
   "execution_count": 2,
   "metadata": {},
   "outputs": [],
   "source": [
    "import torch"
   ]
  },
  {
   "cell_type": "code",
   "execution_count": 3,
   "metadata": {},
   "outputs": [],
   "source": [
    "def activation(x):\n",
    "    \"\"\" Sigmoid activation function \n",
    "    \n",
    "        Arguments\n",
    "        ---------\n",
    "        x: torch.Tensor\n",
    "    \"\"\"\n",
    "    return 1/(1+torch.exp(-x))"
   ]
  },
  {
   "cell_type": "code",
   "execution_count": 4,
   "metadata": {},
   "outputs": [
    {
     "name": "stdout",
     "output_type": "stream",
     "text": [
      "tensor([[-0.1468,  0.7861,  0.9468, -1.1143,  1.6908]])\n",
      "tensor([[-0.8948, -0.3556,  1.2324,  0.1382, -1.6822]])\n",
      "tensor([[0.3177]])\n"
     ]
    }
   ],
   "source": [
    "# Single layer nural network\n",
    "### Generate some data\n",
    "torch.manual_seed(7) # Set the random seed so things are predictable\n",
    "\n",
    "# Features are 5 random normal variables\n",
    "features = torch.randn((1, 5))\n",
    "print(features)\n",
    "# True weights for our data, random normal variables again\n",
    "weights = torch.randn_like(features)\n",
    "print(weights)\n",
    "# and a true bias term\n",
    "bias = torch.randn((1, 1))\n",
    "print(bias)"
   ]
  },
  {
   "cell_type": "code",
   "execution_count": 5,
   "metadata": {},
   "outputs": [
    {
     "name": "stdout",
     "output_type": "stream",
     "text": [
      "tensor([[0.1595]])\n"
     ]
    }
   ],
   "source": [
    "# Output of neural network using sum() method\n",
    "print(activation(torch.sum(features*weights)+bias))"
   ]
  },
  {
   "cell_type": "code",
   "execution_count": 7,
   "metadata": {},
   "outputs": [
    {
     "name": "stdout",
     "output_type": "stream",
     "text": [
      "tensor([[-0.8948],\n",
      "        [-0.3556],\n",
      "        [ 1.2324],\n",
      "        [ 0.1382],\n",
      "        [-1.6822]])\n",
      "tensor([[-1.9796]])\n"
     ]
    }
   ],
   "source": [
    "# Output of neural network using matrix multiplication\n",
    "# Getting transpose of weights matrix\n",
    "weights_transpose = weights.view((5, 1))\n",
    "print(weights_transpose)\n",
    "product = torch.mm(features, weights_transpose)\n",
    "print(product)"
   ]
  },
  {
   "cell_type": "code",
   "execution_count": 8,
   "metadata": {},
   "outputs": [
    {
     "name": "stdout",
     "output_type": "stream",
     "text": [
      "tensor([[0.1595]])\n"
     ]
    }
   ],
   "source": [
    "output = activation(product+bias)\n",
    "print(output)"
   ]
  },
  {
   "cell_type": "code",
   "execution_count": 10,
   "metadata": {},
   "outputs": [
    {
     "name": "stdout",
     "output_type": "stream",
     "text": [
      "tensor([[-0.1468,  0.7861,  0.9468]])\n",
      "tensor([[-1.1143,  1.6908],\n",
      "        [-0.8948, -0.3556],\n",
      "        [ 1.2324,  0.1382]])\n",
      "tensor([[-1.6822],\n",
      "        [ 0.3177]])\n",
      "tensor([[0.1328, 0.1373]])\n",
      "tensor([[0.2405]])\n"
     ]
    }
   ],
   "source": [
    "# Next exercise - Muti layer neural network\n",
    "### Generate some data\n",
    "torch.manual_seed(7) # Set the random seed so things are predictable\n",
    "\n",
    "# Features are 3 random normal variables\n",
    "features = torch.randn((1, 3))\n",
    "\n",
    "# Define the size of each layer in our network\n",
    "n_input = features.shape[1]     # Number of input units, must match number of input features\n",
    "n_hidden = 2                    # Number of hidden units \n",
    "n_output = 1                    # Number of output units\n",
    "\n",
    "# Weights for inputs to hidden layer\n",
    "W1 = torch.randn(n_input, n_hidden)\n",
    "# Weights for hidden layer to output layer\n",
    "W2 = torch.randn(n_hidden, n_output)\n",
    "\n",
    "# and bias terms for hidden and output layers\n",
    "B1 = torch.randn((1, n_hidden))\n",
    "B2 = torch.randn((1, n_output))\n",
    "\n",
    "print(features)\n",
    "print(W1)\n",
    "print(W2)\n",
    "print(B1)\n",
    "print(B2)"
   ]
  },
  {
   "cell_type": "code",
   "execution_count": 14,
   "metadata": {},
   "outputs": [
    {
     "name": "stdout",
     "output_type": "stream",
     "text": [
      "tensor([[0.6813, 0.4355]])\n",
      "tensor([[0.3171]])\n"
     ]
    }
   ],
   "source": [
    "output_l1 = activation(torch.mm(features, W1)+B1)\n",
    "print(output_l1)\n",
    "output_l2 = activation(torch.mm(output_l1, W2)+B2)\n",
    "print(output_l2)"
   ]
  },
  {
   "cell_type": "code",
   "execution_count": 18,
   "metadata": {},
   "outputs": [
    {
     "name": "stdout",
     "output_type": "stream",
     "text": [
      "[[0.26286322 0.81161691 0.0484664 ]\n",
      " [0.62818601 0.71249655 0.18202186]\n",
      " [0.83316878 0.30597497 0.20916981]\n",
      " [0.57371888 0.3225026  0.31739586]]\n",
      "tensor([[0.2629, 0.8116, 0.0485],\n",
      "        [0.6282, 0.7125, 0.1820],\n",
      "        [0.8332, 0.3060, 0.2092],\n",
      "        [0.5737, 0.3225, 0.3174]], dtype=torch.float64)\n",
      "[[0.26286322 0.81161691 0.0484664 ]\n",
      " [0.62818601 0.71249655 0.18202186]\n",
      " [0.83316878 0.30597497 0.20916981]\n",
      " [0.57371888 0.3225026  0.31739586]]\n"
     ]
    }
   ],
   "source": [
    "# Numpy to Torch and back - example from course\n",
    "import numpy as np\n",
    "a = np.random.rand(4,3)\n",
    "print(a)\n",
    "b = torch.from_numpy(a) # Numpy to torch\n",
    "print(b)\n",
    "\n",
    "print(b.numpy()) # Torch to Numpy\n"
   ]
  },
  {
   "cell_type": "code",
   "execution_count": 19,
   "metadata": {},
   "outputs": [
    {
     "name": "stdout",
     "output_type": "stream",
     "text": [
      "tensor([[0.5257, 1.6232, 0.0969],\n",
      "        [1.2564, 1.4250, 0.3640],\n",
      "        [1.6663, 0.6119, 0.4183],\n",
      "        [1.1474, 0.6450, 0.6348]], dtype=torch.float64)\n",
      "[[0.52572644 1.62323382 0.0969328 ]\n",
      " [1.25637203 1.42499311 0.36404372]\n",
      " [1.66633757 0.61194993 0.41833962]\n",
      " [1.14743775 0.6450052  0.63479172]]\n"
     ]
    }
   ],
   "source": [
    "# Multiply PyTorch Tensor by 2, in place\n",
    "print(b.mul_(2))\n",
    "print(a)"
   ]
  },
  {
   "cell_type": "code",
   "execution_count": null,
   "metadata": {},
   "outputs": [],
   "source": []
  }
 ],
 "metadata": {
  "kernelspec": {
   "display_name": "Python 3",
   "language": "python",
   "name": "python3"
  },
  "language_info": {
   "codemirror_mode": {
    "name": "ipython",
    "version": 3
   },
   "file_extension": ".py",
   "mimetype": "text/x-python",
   "name": "python",
   "nbconvert_exporter": "python",
   "pygments_lexer": "ipython3",
   "version": "3.7.4"
  }
 },
 "nbformat": 4,
 "nbformat_minor": 2
}
