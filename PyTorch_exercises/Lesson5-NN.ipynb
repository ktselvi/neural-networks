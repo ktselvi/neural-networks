{
 "cells": [
  {
   "cell_type": "code",
   "execution_count": 33,
   "metadata": {},
   "outputs": [],
   "source": [
    "# Training neural network to classify handwritten digits exercise\n",
    "# Import necessary packages\n",
    "\n",
    "%matplotlib inline\n",
    "%config InlineBackend.figure_format = 'retina'\n",
    "\n",
    "import numpy as np\n",
    "from torch import nn\n",
    "import torch.nn.functional as F\n",
    "import torch\n",
    "\n",
    "import helper\n",
    "\n",
    "import matplotlib.pyplot as plt"
   ]
  },
  {
   "cell_type": "code",
   "execution_count": 3,
   "metadata": {},
   "outputs": [
    {
     "name": "stderr",
     "output_type": "stream",
     "text": [
      "\r",
      "0it [00:00, ?it/s]"
     ]
    },
    {
     "name": "stdout",
     "output_type": "stream",
     "text": [
      "Downloading http://yann.lecun.com/exdb/mnist/train-images-idx3-ubyte.gz to /Users/thankaselv.kumaresan/.pytorch/MNIST_data/MNIST/raw/train-images-idx3-ubyte.gz\n"
     ]
    },
    {
     "name": "stderr",
     "output_type": "stream",
     "text": [
      "100%|█████████▉| 9912320/9912422 [01:06<00:00, 100899.19it/s]"
     ]
    },
    {
     "name": "stdout",
     "output_type": "stream",
     "text": [
      "Extracting /Users/thankaselv.kumaresan/.pytorch/MNIST_data/MNIST/raw/train-images-idx3-ubyte.gz to /Users/thankaselv.kumaresan/.pytorch/MNIST_data/MNIST/raw\n"
     ]
    },
    {
     "name": "stderr",
     "output_type": "stream",
     "text": [
      "\n",
      "0it [00:00, ?it/s]\u001b[A"
     ]
    },
    {
     "name": "stdout",
     "output_type": "stream",
     "text": [
      "Downloading http://yann.lecun.com/exdb/mnist/train-labels-idx1-ubyte.gz to /Users/thankaselv.kumaresan/.pytorch/MNIST_data/MNIST/raw/train-labels-idx1-ubyte.gz\n"
     ]
    },
    {
     "name": "stderr",
     "output_type": "stream",
     "text": [
      "\n",
      "  0%|          | 0/28881 [00:00<?, ?it/s]\u001b[A\n",
      "32768it [00:00, 36166.05it/s]                           \u001b[A\n",
      "\n",
      "0it [00:00, ?it/s]\u001b[A"
     ]
    },
    {
     "name": "stdout",
     "output_type": "stream",
     "text": [
      "Extracting /Users/thankaselv.kumaresan/.pytorch/MNIST_data/MNIST/raw/train-labels-idx1-ubyte.gz to /Users/thankaselv.kumaresan/.pytorch/MNIST_data/MNIST/raw\n",
      "Downloading http://yann.lecun.com/exdb/mnist/t10k-images-idx3-ubyte.gz to /Users/thankaselv.kumaresan/.pytorch/MNIST_data/MNIST/raw/t10k-images-idx3-ubyte.gz\n"
     ]
    },
    {
     "name": "stderr",
     "output_type": "stream",
     "text": [
      "\n",
      "  0%|          | 0/1648877 [00:00<?, ?it/s]\u001b[A\n",
      "  1%|          | 16384/1648877 [00:00<00:28, 56694.42it/s]\u001b[A\n",
      "  2%|▏         | 32768/1648877 [00:01<00:27, 58387.63it/s]\u001b[A\n",
      "  3%|▎         | 57344/1648877 [00:01<00:23, 66355.90it/s]\u001b[A\n",
      "  4%|▍         | 73728/1648877 [00:01<00:24, 64766.54it/s]\u001b[A\n",
      "  6%|▌         | 98304/1648877 [00:01<00:21, 71814.59it/s]\u001b[A\n",
      "  7%|▋         | 122880/1648877 [00:02<00:19, 77617.68it/s]\u001b[A\n",
      "  9%|▉         | 147456/1648877 [00:02<00:18, 82570.78it/s]\u001b[A\n",
      " 10%|█         | 172032/1648877 [00:02<00:17, 84790.15it/s]\u001b[A\n",
      " 12%|█▏        | 204800/1648877 [00:02<00:15, 93399.54it/s]\u001b[A\n",
      " 14%|█▍        | 229376/1648877 [00:03<00:19, 72808.17it/s]\u001b[A\n",
      " 16%|█▋        | 270336/1648877 [00:03<00:15, 87479.64it/s]\u001b[A\n",
      " 17%|█▋        | 286720/1648877 [00:03<00:17, 79792.21it/s]\u001b[A\n",
      " 19%|█▉        | 311296/1648877 [00:04<00:15, 84595.89it/s]\u001b[A\n",
      " 20%|██        | 335872/1648877 [00:04<00:14, 88185.09it/s]\u001b[A\n",
      " 22%|██▏       | 360448/1648877 [00:04<00:13, 96550.96it/s]\u001b[A\n",
      " 23%|██▎       | 385024/1648877 [00:04<00:11, 106192.04it/s]\u001b[A\n",
      " 24%|██▍       | 401408/1648877 [00:04<00:11, 107336.70it/s]\u001b[A\n",
      " 25%|██▌       | 417792/1648877 [00:05<00:10, 116938.60it/s]\u001b[A\n",
      " 26%|██▋       | 434176/1648877 [00:05<00:10, 117429.36it/s]\u001b[A\n",
      " 27%|██▋       | 450560/1648877 [00:05<00:12, 96844.78it/s] \u001b[A\n",
      " 29%|██▉       | 475136/1648877 [00:05<00:14, 83655.64it/s]\u001b[A\n",
      " 31%|███       | 507904/1648877 [00:05<00:10, 104851.40it/s]\u001b[A\n",
      " 32%|███▏      | 524288/1648877 [00:06<00:10, 109709.64it/s]\u001b[A\n",
      " 33%|███▎      | 540672/1648877 [00:06<00:09, 118277.00it/s]\u001b[A\n",
      " 34%|███▍      | 557056/1648877 [00:06<00:11, 95057.61it/s] \u001b[A\n",
      " 35%|███▍      | 573440/1648877 [00:06<00:13, 80566.20it/s]\u001b[A\n",
      " 36%|███▋      | 598016/1648877 [00:07<00:12, 85336.76it/s]\u001b[A\n",
      " 38%|███▊      | 622592/1648877 [00:07<00:10, 101167.64it/s]\u001b[A\n",
      " 39%|███▉      | 638976/1648877 [00:07<00:09, 110849.92it/s]\u001b[A\n",
      " 40%|███▉      | 655360/1648877 [00:07<00:09, 109691.79it/s]\u001b[A\n",
      " 41%|████      | 671744/1648877 [00:07<00:08, 120720.56it/s]\u001b[A\n",
      " 42%|████▏     | 688128/1648877 [00:07<00:10, 95613.22it/s] \u001b[A\n",
      " 43%|████▎     | 712704/1648877 [00:07<00:08, 110136.87it/s]\u001b[A\n",
      " 44%|████▍     | 729088/1648877 [00:08<00:07, 116831.03it/s]\u001b[A\n",
      " 45%|████▌     | 745472/1648877 [00:08<00:07, 118061.93it/s]\u001b[A\n",
      " 46%|████▌     | 761856/1648877 [00:08<00:07, 120096.47it/s]\u001b[A\n",
      " 47%|████▋     | 778240/1648877 [00:08<00:09, 96664.24it/s] \u001b[A\n",
      " 49%|████▊     | 802816/1648877 [00:08<00:07, 113006.55it/s]\u001b[A\n",
      " 50%|████▉     | 819200/1648877 [00:08<00:07, 114674.37it/s]\u001b[A\n",
      " 51%|█████     | 835584/1648877 [00:08<00:06, 118253.46it/s]\u001b[A\n",
      " 52%|█████▏    | 851968/1648877 [00:09<00:06, 119509.04it/s]\u001b[A\n",
      " 53%|█████▎    | 868352/1648877 [00:09<00:08, 96072.66it/s] \u001b[A\n",
      " 54%|█████▍    | 892928/1648877 [00:09<00:06, 111718.47it/s]\u001b[A\n",
      " 55%|█████▌    | 909312/1648877 [00:09<00:06, 119509.21it/s]\u001b[A\n",
      " 56%|█████▌    | 925696/1648877 [00:09<00:05, 120726.55it/s]\u001b[A\n",
      " 57%|█████▋    | 942080/1648877 [00:09<00:05, 126065.05it/s]\u001b[A\n",
      " 58%|█████▊    | 958464/1648877 [00:10<00:08, 77943.45it/s] \u001b[A\n",
      " 60%|██████    | 991232/1648877 [00:10<00:06, 100707.83it/s]\u001b[A\n",
      " 62%|██████▏   | 1015808/1648877 [00:10<00:06, 100334.53it/s]\u001b[A\n",
      " 63%|██████▎   | 1032192/1648877 [00:10<00:07, 88017.05it/s] \u001b[A\n",
      " 64%|██████▍   | 1056768/1648877 [00:11<00:06, 90516.51it/s]\u001b[A\n",
      " 66%|██████▌   | 1089536/1648877 [00:11<00:05, 99868.12it/s]\u001b[A\n",
      " 68%|██████▊   | 1114112/1648877 [00:11<00:04, 117918.29it/s]\u001b[A\n",
      " 69%|██████▊   | 1130496/1648877 [00:11<00:04, 116241.60it/s]\u001b[A\n",
      " 70%|██████▉   | 1146880/1648877 [00:11<00:03, 126672.69it/s]\u001b[A\n",
      " 71%|███████   | 1163264/1648877 [00:11<00:03, 122223.83it/s]\u001b[A\n",
      " 72%|███████▏  | 1179648/1648877 [00:11<00:03, 131511.74it/s]\u001b[A\n",
      " 73%|███████▎  | 1196032/1648877 [00:12<00:03, 125123.54it/s]\u001b[A\n",
      " 74%|███████▎  | 1212416/1648877 [00:12<00:03, 132563.09it/s]\u001b[A\n",
      "9920512it [01:20, 100899.19it/s]                             \u001b[A\n",
      " 76%|███████▌  | 1245184/1648877 [00:12<00:03, 133155.93it/s]\u001b[A\n",
      " 77%|███████▋  | 1261568/1648877 [00:12<00:03, 126075.62it/s]\u001b[A\n",
      " 78%|███████▊  | 1277952/1648877 [00:12<00:02, 130239.65it/s]\u001b[A\n",
      " 78%|███████▊  | 1294336/1648877 [00:12<00:02, 128703.13it/s]\u001b[A\n",
      " 79%|███████▉  | 1310720/1648877 [00:13<00:03, 105663.68it/s]\u001b[A\n",
      " 81%|████████▏ | 1343488/1648877 [00:13<00:02, 112101.83it/s]\u001b[A\n",
      " 83%|████████▎ | 1376256/1648877 [00:13<00:02, 116978.05it/s]\u001b[A\n",
      " 85%|████████▍ | 1400832/1648877 [00:13<00:01, 132962.29it/s]\u001b[A\n",
      " 86%|████████▌ | 1417216/1648877 [00:13<00:01, 124780.24it/s]\u001b[A\n",
      " 87%|████████▋ | 1441792/1648877 [00:14<00:01, 114920.62it/s]\u001b[A\n",
      " 89%|████████▉ | 1466368/1648877 [00:14<00:01, 130315.30it/s]\u001b[A\n",
      " 90%|████████▉ | 1482752/1648877 [00:14<00:01, 131025.17it/s]\u001b[A\n",
      " 91%|█████████▏| 1507328/1648877 [00:14<00:01, 125377.73it/s]\u001b[A\n",
      " 93%|█████████▎| 1531904/1648877 [00:14<00:00, 139588.31it/s]\u001b[A\n",
      " 94%|█████████▍| 1548288/1648877 [00:14<00:00, 127692.26it/s]\u001b[A\n",
      " 96%|█████████▌| 1581056/1648877 [00:15<00:00, 134388.51it/s]\u001b[A\n",
      " 97%|█████████▋| 1605632/1648877 [00:15<00:00, 147954.64it/s]\u001b[A\n",
      " 98%|█████████▊| 1622016/1648877 [00:15<00:00, 131430.08it/s]\u001b[A\n",
      "\n",
      "0it [00:00, ?it/s]\u001b[A\u001b[A"
     ]
    },
    {
     "name": "stdout",
     "output_type": "stream",
     "text": [
      "Extracting /Users/thankaselv.kumaresan/.pytorch/MNIST_data/MNIST/raw/t10k-images-idx3-ubyte.gz to /Users/thankaselv.kumaresan/.pytorch/MNIST_data/MNIST/raw\n",
      "Downloading http://yann.lecun.com/exdb/mnist/t10k-labels-idx1-ubyte.gz to /Users/thankaselv.kumaresan/.pytorch/MNIST_data/MNIST/raw/t10k-labels-idx1-ubyte.gz\n"
     ]
    },
    {
     "name": "stderr",
     "output_type": "stream",
     "text": [
      "\n",
      "\n",
      "8192it [00:00, 15824.72it/s]            \u001b[A\u001b[A"
     ]
    },
    {
     "name": "stdout",
     "output_type": "stream",
     "text": [
      "Extracting /Users/thankaselv.kumaresan/.pytorch/MNIST_data/MNIST/raw/t10k-labels-idx1-ubyte.gz to /Users/thankaselv.kumaresan/.pytorch/MNIST_data/MNIST/raw\n",
      "Processing...\n",
      "Done!\n"
     ]
    },
    {
     "name": "stderr",
     "output_type": "stream",
     "text": [
      "\n",
      "\n",
      "1654784it [00:32, 131430.08it/s]                             \u001b[A"
     ]
    }
   ],
   "source": [
    "# Downloading MNIST data set using torchvision\n",
    "from torchvision import datasets, transforms\n",
    "\n",
    "# Define a transform to normalize the data\n",
    "transform = transforms.Compose([transforms.ToTensor(),\n",
    "                              transforms.Normalize((0.5,), (0.5,)),\n",
    "                              ])\n",
    "\n",
    "# Download and load the training data\n",
    "trainset = datasets.MNIST('~/.pytorch/MNIST_data/', download=True, train=True, transform=transform)\n",
    "trainloader = torch.utils.data.DataLoader(trainset, batch_size=64, shuffle=True)"
   ]
  },
  {
   "cell_type": "code",
   "execution_count": 7,
   "metadata": {},
   "outputs": [
    {
     "name": "stdout",
     "output_type": "stream",
     "text": [
      "<class 'torch.Tensor'>\n",
      "torch.Size([64, 1, 28, 28])\n",
      "torch.Size([64])\n"
     ]
    }
   ],
   "source": [
    "dataiter = iter(trainloader)\n",
    "images, labels = dataiter.next()\n",
    "print(type(images))\n",
    "print(images.shape)\n",
    "print(labels.shape)"
   ]
  },
  {
   "cell_type": "code",
   "execution_count": 8,
   "metadata": {},
   "outputs": [
    {
     "data": {
      "image/png": "[encoded data removed]",
      "text/plain": [
       "<Figure size 432x288 with 1 Axes>"
      ]
     },
     "metadata": {
      "image/png": {
       "height": 248,
       "width": 251
      },
      "needs_background": "light"
     },
     "output_type": "display_data"
    }
   ],
   "source": [
    "plt.imshow(images[1].numpy().squeeze(), cmap='Greys_r');"
   ]
  },
  {
   "cell_type": "code",
   "execution_count": 11,
   "metadata": {},
   "outputs": [],
   "source": [
    "def activation(x):\n",
    "    \"\"\" Sigmoid activation function \n",
    "    \n",
    "        Arguments\n",
    "        ---------\n",
    "        x: torch.Tensor\n",
    "    \"\"\"\n",
    "    return 1/(1+torch.exp(-x))"
   ]
  },
  {
   "cell_type": "code",
   "execution_count": 19,
   "metadata": {},
   "outputs": [],
   "source": [
    "# Generating random weights and bias\n",
    "torch.manual_seed(5)\n",
    "n_input = 784    # Number of input units-28x28\n",
    "n_hidden = 256    # Number of hidden units \n",
    "n_output = 10\n",
    "\n",
    "W1 = torch.randn(n_input, n_hidden)\n",
    "W2 = torch.randn(n_hidden, n_output)\n",
    "B1 = torch.randn((1, n_hidden))\n",
    "B2 = torch.randn((1, n_output))\n",
    "\n",
    "# Flattening images - Understood this logic from https://deeplizard.com/learn/video/fCVuiW9AFzY\n",
    "def flatten(t):\n",
    "    t = t.reshape(t.shape[0], -1)\n",
    "    t = t.squeeze()\n",
    "    return t\n",
    "\n",
    "images_flat_input = flatten(images)"
   ]
  },
  {
   "cell_type": "code",
   "execution_count": 20,
   "metadata": {
    "scrolled": false
   },
   "outputs": [],
   "source": [
    "output_l1 = activation(torch.mm(images_flat_input, W1)+B1)\n",
    "output_l2 = torch.mm(output_l1, W2)+B2"
   ]
  },
  {
   "cell_type": "code",
   "execution_count": 28,
   "metadata": {},
   "outputs": [],
   "source": [
    "# Defining softmax function\n",
    "def softmax(x):\n",
    "    sum = torch.sum(torch.exp(x), dim=1).view(-1, 1)\n",
    "    return torch.exp(x)/sum"
   ]
  },
  {
   "cell_type": "code",
   "execution_count": 29,
   "metadata": {},
   "outputs": [
    {
     "name": "stdout",
     "output_type": "stream",
     "text": [
      "torch.Size([64, 10])\n",
      "tensor([1.0000, 1.0000, 1.0000, 1.0000, 1.0000, 1.0000, 1.0000, 1.0000, 1.0000,\n",
      "        1.0000, 1.0000, 1.0000, 1.0000, 1.0000, 1.0000, 1.0000, 1.0000, 1.0000,\n",
      "        1.0000, 1.0000, 1.0000, 1.0000, 1.0000, 1.0000, 1.0000, 1.0000, 1.0000,\n",
      "        1.0000, 1.0000, 1.0000, 1.0000, 1.0000, 1.0000, 1.0000, 1.0000, 1.0000,\n",
      "        1.0000, 1.0000, 1.0000, 1.0000, 1.0000, 1.0000, 1.0000, 1.0000, 1.0000,\n",
      "        1.0000, 1.0000, 1.0000, 1.0000, 1.0000, 1.0000, 1.0000, 1.0000, 1.0000,\n",
      "        1.0000, 1.0000, 1.0000, 1.0000, 1.0000, 1.0000, 1.0000, 1.0000, 1.0000,\n",
      "        1.0000])\n"
     ]
    }
   ],
   "source": [
    "probabilities = softmax(output_l2)\n",
    "\n",
    "# Does it have the right shape? Should be (64, 10)\n",
    "print(probabilities.shape)\n",
    "# Does it sum to 1?\n",
    "print(probabilities.sum(dim=1))"
   ]
  },
  {
   "cell_type": "code",
   "execution_count": 36,
   "metadata": {},
   "outputs": [
    {
     "data": {
      "text/plain": [
       "Network(\n",
       "  (fc1): Linear(in_features=784, out_features=128, bias=True)\n",
       "  (fc2): Linear(in_features=128, out_features=64, bias=True)\n",
       "  (fc3): Linear(in_features=64, out_features=10, bias=True)\n",
       ")"
      ]
     },
     "execution_count": 36,
     "metadata": {},
     "output_type": "execute_result"
    }
   ],
   "source": [
    "# Building neural network using NN Module\n",
    "class Network(nn.Module):\n",
    "    def __init__(self):\n",
    "        super().__init__()\n",
    "\n",
    "        self.fc1 = nn.Linear(784, 128)\n",
    "        self.fc2 = nn.Linear(128, 64)\n",
    "        self.fc3 = nn.Linear(64, 10)\n",
    "        \n",
    "    def forward(self, x):\n",
    "        # Pass the input tensor through each of our operations\n",
    "        x = F.relu(self.fc1(x))\n",
    "        x = F.relu(self.fc2(x))\n",
    "        x = F.softmax(self.fc3(x), dim=1)\n",
    "        \n",
    "        return x\n",
    "\n",
    "model = Network()\n",
    "model"
   ]
  },
  {
   "cell_type": "code",
   "execution_count": null,
   "metadata": {},
   "outputs": [],
   "source": []
  }
 ],
 "metadata": {
  "kernelspec": {
   "display_name": "Python 3",
   "language": "python",
   "name": "python3"
  },
  "language_info": {
   "codemirror_mode": {
    "name": "ipython",
    "version": 3
   },
   "file_extension": ".py",
   "mimetype": "text/x-python",
   "name": "python",
   "nbconvert_exporter": "python",
   "pygments_lexer": "ipython3",
   "version": "3.7.4"
  }
 },
 "nbformat": 4,
 "nbformat_minor": 2
}
